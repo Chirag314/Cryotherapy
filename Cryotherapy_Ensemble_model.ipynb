{
  "nbformat": 4,
  "nbformat_minor": 0,
  "metadata": {
    "colab": {
      "provenance": [],
      "authorship_tag": "ABX9TyMw9dk57+l6pArz8C+IYSxI",
      "include_colab_link": true
    },
    "kernelspec": {
      "name": "python3",
      "display_name": "Python 3"
    },
    "language_info": {
      "name": "python"
    }
  },
  "cells": [
    {
      "cell_type": "markdown",
      "metadata": {
        "id": "view-in-github",
        "colab_type": "text"
      },
      "source": [
        "<a href=\"https://colab.research.google.com/github/Chirag314/Cryotherapy/blob/main/Cryotherapy_Ensemble_model.ipynb\" target=\"_parent\"><img src=\"https://colab.research.google.com/assets/colab-badge.svg\" alt=\"Open In Colab\"/></a>"
      ]
    },
    {
      "cell_type": "markdown",
      "source": [
        "###This notebook is copied from exercises from book Ensemble Machine Learning Cookbook."
      ],
      "metadata": {
        "id": "de3ggC8Kv_99"
      }
    },
    {
      "cell_type": "code",
      "execution_count": 1,
      "metadata": {
        "colab": {
          "base_uri": "https://localhost:8080/"
        },
        "id": "rror9ooAv2jU",
        "outputId": "54d9d39a-08f4-4ec3-a2a2-b19fbdb6bae3"
      },
      "outputs": [
        {
          "output_type": "stream",
          "name": "stdout",
          "text": [
            "   sex  age   Time  Number_of_Warts  Type  Area  Result_of_Treatment\n",
            "0    1   35  12.00                5     1   100                    0\n",
            "1    1   29   7.00                5     1    96                    1\n",
            "2    1   50   8.00                1     3   132                    0\n",
            "3    1   32  11.75                7     3   750                    0\n",
            "4    1   67   9.25                1     1    42                    0\n"
          ]
        }
      ],
      "source": [
        "# Read data from github. Use raw format and copy url# Note normal url and raw url will be different.\n",
        "import pandas as pd\n",
        "pd.options.display.max_rows=None\n",
        "pd.options.display.max_columns=None\n",
        "url = 'https://raw.githubusercontent.com/PacktPublishing/Ensemble-Machine-Learning-Cookbook/master/Chapter02/Cryotherapy.csv'\n",
        "df_cryotherapydata = pd.read_csv(url)\n",
        "#df = pd.read_csv(url)\n",
        "print(df_cryotherapydata.head(5))"
      ]
    },
    {
      "cell_type": "markdown",
      "source": [
        "#####The following steps showcase an example of how to combine the predictions of the decision tree, SVMs, and logistic regression models for a classification problem"
      ],
      "metadata": {
        "id": "Fhig-YINwrKz"
      }
    },
    {
      "cell_type": "code",
      "source": [
        "#import required libraries\n",
        "from sklearn.tree import DecisionTreeClassifier\n",
        "from sklearn.svm import SVC\n",
        "from sklearn.linear_model import LogisticRegression\n",
        "from sklearn.ensemble import VotingClassifier\n"
      ],
      "metadata": {
        "id": "uuEy1KqUwmP_"
      },
      "execution_count": 2,
      "outputs": []
    },
    {
      "cell_type": "code",
      "source": [
        "#Create train and test cample from our dataset\n",
        "from sklearn.model_selection import train_test_split\n",
        "\n",
        "# Create feature and response state\n",
        "feature_columns=['sex','age','Time','Number_of_Warts','Type','Area']\n",
        "X=df_cryotherapydata[feature_columns]\n",
        "y=df_cryotherapydata['Result_of_Treatment']\n",
        "\n",
        "# Create train and test results\n",
        "X_train, X_test, Y_train, Y_test=train_test_split(X,y,test_size=0.2,random_state=1)"
      ],
      "metadata": {
        "id": "Co9qf7bqxDyn"
      },
      "execution_count": 4,
      "outputs": []
    },
    {
      "cell_type": "code",
      "source": [
        "#We build our models with the decision tree, SVM, and logistic regression algorithms:\n",
        "\n",
        "# Create the submodels\n",
        "estimators=[]\n",
        "\n",
        "dt_model=DecisionTreeClassifier(random_state=1)\n",
        "estimators.append(('DecisionTree',dt_model))\n",
        "\n",
        "svm_model=SVC(random_state=1)\n",
        "estimators.append(('SupportVector',svm_model))\n",
        "\n",
        "logit_model=LogisticRegression(random_state=1)\n",
        "estimators.append(('Logistic Regression',logit_model))"
      ],
      "metadata": {
        "id": "WwB4s5gSyNBR"
      },
      "execution_count": 5,
      "outputs": []
    },
    {
      "cell_type": "code",
      "source": [
        "# build individual models with each of the classifiers we've chosen:\n",
        "\n",
        "from sklearn.metrics import accuracy_score\n",
        "\n",
        "for each_estimator in (dt_model, svm_model, logit_model):\n",
        "  each_estimator.fit(X_train, Y_train)\n",
        "  Y_pred=each_estimator.predict(X_test)\n",
        "  print(each_estimator.__class__.__name__,accuracy_score(Y_test,Y_pred))"
      ],
      "metadata": {
        "colab": {
          "base_uri": "https://localhost:8080/"
        },
        "id": "fb_7lU75yxxk",
        "outputId": "78fe5269-c651-43e6-cc5d-b1899ee09995"
      },
      "execution_count": 6,
      "outputs": [
        {
          "output_type": "stream",
          "name": "stdout",
          "text": [
            "DecisionTreeClassifier 0.8333333333333334\n",
            "SVC 0.4444444444444444\n",
            "LogisticRegression 0.9444444444444444\n"
          ]
        }
      ]
    },
    {
      "cell_type": "code",
      "source": [
        "#Using VotingClassifier() to build ensemble model with Hard Voting\n",
        "\n",
        "ensemble_model=VotingClassifier(estimators=estimators,voting='hard')\n",
        "\n",
        "ensemble_model.fit(X_train, Y_train)\n",
        "predicted_labels=ensemble_model.predict(X_test)\n",
        "\n",
        "print(\"Classifier Accuracy using Hard voting is :\", accuracy_score(Y_test, predicted_labels))"
      ],
      "metadata": {
        "colab": {
          "base_uri": "https://localhost:8080/"
        },
        "id": "kJ1izYUlzcCt",
        "outputId": "afee2b4d-5dfd-415e-e8f7-a9f0930d6b6d"
      },
      "execution_count": 7,
      "outputs": [
        {
          "output_type": "stream",
          "name": "stdout",
          "text": [
            "Classifier Accuracy using Hard voting is : 0.8333333333333334\n"
          ]
        }
      ]
    },
    {
      "cell_type": "code",
      "source": [
        "#Many classifiers can estimate class probabilities. In this case, the class labels are predicted by averaging the class probabilities. This is called soft voting and is recommended for an ensemble of well-tuned classifiers."
      ],
      "metadata": {
        "id": "23XL3ZDc0iVH"
      },
      "execution_count": null,
      "outputs": []
    },
    {
      "cell_type": "code",
      "source": [
        "#Using VotingClassifier() to build ensemble model with Hard Voting\n",
        "#simply replace voting='hard' with voting='soft' in VotingClassifier().\n",
        "\n",
        "# create the sub models\n",
        "estimators = []\n",
        "\n",
        "dt_model = DecisionTreeClassifier(random_state=1)\n",
        "estimators.append(('DecisionTree', dt_model))\n",
        "\n",
        "svm_model = SVC(random_state=1, probability=True)\n",
        "estimators.append(('SupportVector', svm_model))\n",
        "\n",
        "logit_model = LogisticRegression(random_state=1)\n",
        "estimators.append(('Logistic Regression', logit_model))\n",
        "\n",
        "for each_estimator in (dt_model, svm_model, logit_model):\n",
        "    each_estimator.fit(X_train, Y_train)\n",
        "    Y_pred = each_estimator.predict(X_test)\n",
        "    print(each_estimator.__class__.__name__, accuracy_score(Y_test, Y_pred))\n",
        "\n",
        "# Using VotingClassifier() to build ensemble model with Soft Voting\n",
        "ensemble_model = VotingClassifier(estimators=estimators, voting='soft')\n",
        "ensemble_model.fit(X_train,Y_train)\n",
        "predicted_labels = ensemble_model.predict(X_test) \n",
        "print(\"Classifier Accuracy using Soft Voting: \", accuracy_score(Y_test, predicted_labels))"
      ],
      "metadata": {
        "colab": {
          "base_uri": "https://localhost:8080/"
        },
        "id": "QkRwl4R50nEi",
        "outputId": "8e37cbc6-75c8-49c1-c876-9e5cf19a8cab"
      },
      "execution_count": 10,
      "outputs": [
        {
          "output_type": "stream",
          "name": "stdout",
          "text": [
            "DecisionTreeClassifier 0.8333333333333334\n",
            "SVC 0.4444444444444444\n",
            "LogisticRegression 0.9444444444444444\n",
            "Classifier Accuracy using Soft Voting:  0.8888888888888888\n"
          ]
        }
      ]
    }
  ]
}