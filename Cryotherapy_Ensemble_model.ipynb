{
  "nbformat": 4,
  "nbformat_minor": 0,
  "metadata": {
    "colab": {
      "provenance": [],
      "authorship_tag": "ABX9TyP5Ou2aa42lS0CjMoR38KDR",
      "include_colab_link": true
    },
    "kernelspec": {
      "name": "python3",
      "display_name": "Python 3"
    },
    "language_info": {
      "name": "python"
    }
  },
  "cells": [
    {
      "cell_type": "markdown",
      "metadata": {
        "id": "view-in-github",
        "colab_type": "text"
      },
      "source": [
        "<a href=\"https://colab.research.google.com/github/Chirag314/Cryotherapy/blob/main/Cryotherapy_Ensemble_model.ipynb\" target=\"_parent\"><img src=\"https://colab.research.google.com/assets/colab-badge.svg\" alt=\"Open In Colab\"/></a>"
      ]
    },
    {
      "cell_type": "markdown",
      "source": [
        "###This notebook is copied from exercises from book Ensemble Machine Learning Cookbook."
      ],
      "metadata": {
        "id": "de3ggC8Kv_99"
      }
    },
    {
      "cell_type": "code",
      "execution_count": 1,
      "metadata": {
        "colab": {
          "base_uri": "https://localhost:8080/"
        },
        "id": "rror9ooAv2jU",
        "outputId": "54d9d39a-08f4-4ec3-a2a2-b19fbdb6bae3"
      },
      "outputs": [
        {
          "output_type": "stream",
          "name": "stdout",
          "text": [
            "   sex  age   Time  Number_of_Warts  Type  Area  Result_of_Treatment\n",
            "0    1   35  12.00                5     1   100                    0\n",
            "1    1   29   7.00                5     1    96                    1\n",
            "2    1   50   8.00                1     3   132                    0\n",
            "3    1   32  11.75                7     3   750                    0\n",
            "4    1   67   9.25                1     1    42                    0\n"
          ]
        }
      ],
      "source": [
        "# Read data from github. Use raw format and copy url# Note normal url and raw url will be different.\n",
        "import pandas as pd\n",
        "pd.options.display.max_rows=None\n",
        "pd.options.display.max_columns=None\n",
        "url = 'https://raw.githubusercontent.com/PacktPublishing/Ensemble-Machine-Learning-Cookbook/master/Chapter02/Cryotherapy.csv'\n",
        "df_cryotherapydata = pd.read_csv(url)\n",
        "#df = pd.read_csv(url)\n",
        "print(df_cryotherapydata.head(5))"
      ]
    }
  ]
}